{
 "cells": [
  {
   "cell_type": "code",
   "execution_count": 72,
   "id": "747e20d5",
   "metadata": {},
   "outputs": [],
   "source": [
    "import numpy as np"
   ]
  },
  {
   "cell_type": "markdown",
   "id": "8a582a0e",
   "metadata": {},
   "source": [
    "### Creating integers from 30 to 70 in an array"
   ]
  },
  {
   "cell_type": "code",
   "execution_count": 73,
   "id": "ee0b1eb6",
   "metadata": {},
   "outputs": [],
   "source": [
    "arr = np.arange(30,71)"
   ]
  },
  {
   "cell_type": "code",
   "execution_count": 74,
   "id": "1994c9f4",
   "metadata": {},
   "outputs": [
    {
     "name": "stdout",
     "output_type": "stream",
     "text": [
      "Array of integers from 30 to 70 is :  [30 31 32 33 34 35 36 37 38 39 40 41 42 43 44 45 46 47 48 49 50 51 52 53\n",
      " 54 55 56 57 58 59 60 61 62 63 64 65 66 67 68 69 70]\n"
     ]
    }
   ],
   "source": [
    "print(\"Array of integers from 30 to 70 is : \", arr)"
   ]
  },
  {
   "cell_type": "markdown",
   "id": "f83de12f",
   "metadata": {},
   "source": [
    "### Generating 15 random numbers from standard distribution"
   ]
  },
  {
   "cell_type": "code",
   "execution_count": 75,
   "id": "0f2cd7f5",
   "metadata": {},
   "outputs": [],
   "source": [
    "random = np.random.randn(15)"
   ]
  },
  {
   "cell_type": "code",
   "execution_count": 76,
   "id": "efda2399",
   "metadata": {},
   "outputs": [
    {
     "name": "stdout",
     "output_type": "stream",
     "text": [
      "15 random numbers are :  [-0.37388619  0.58451893 -1.77892756 -0.73922433 -0.25364959  1.2338866\n",
      "  0.97914393 -0.14157395 -0.0122446   0.4703333  -0.76605633  0.23085611\n",
      " -0.10720805  0.5238696   0.60368951]\n"
     ]
    }
   ],
   "source": [
    "print(\"15 random numbers are : \",random)"
   ]
  },
  {
   "cell_type": "markdown",
   "id": "e60c5db5",
   "metadata": {},
   "source": [
    "### Taking cross product of two matrices"
   ]
  },
  {
   "cell_type": "code",
   "execution_count": 77,
   "id": "e9618d7e",
   "metadata": {},
   "outputs": [],
   "source": [
    "matrix1 = np.array([[1,2,3],[3,2,1],[2,3,1]])\n",
    "matrix2 = np.array([[4,5,6],[6,5,4],[5,6,4]])\n",
    "cross_product = np.cross(matrix1, matrix2)"
   ]
  },
  {
   "cell_type": "code",
   "execution_count": 78,
   "id": "feeea557",
   "metadata": {},
   "outputs": [
    {
     "name": "stdout",
     "output_type": "stream",
     "text": [
      "Matrix 1 is : \n",
      " [[1 2 3]\n",
      " [3 2 1]\n",
      " [2 3 1]]\n",
      "Matrix 2 is : \n",
      " [[4 5 6]\n",
      " [6 5 4]\n",
      " [5 6 4]]\n",
      "Cross product of matrix 1 and matrix 2 is : \n",
      " [[-3  6 -3]\n",
      " [ 3 -6  3]\n",
      " [ 6 -3 -3]]\n"
     ]
    }
   ],
   "source": [
    "print(\"Matrix 1 is : \\n\", matrix1)\n",
    "print(\"Matrix 2 is : \\n\", matrix2)\n",
    "print(\"Cross product of matrix 1 and matrix 2 is : \\n\",cross_product)"
   ]
  },
  {
   "cell_type": "markdown",
   "id": "6a5a35f2",
   "metadata": {},
   "source": [
    "### Taking determinant of matrix"
   ]
  },
  {
   "cell_type": "code",
   "execution_count": 79,
   "id": "ac89e781",
   "metadata": {},
   "outputs": [],
   "source": [
    "matrix = np.array([[3,4],[1,2]])"
   ]
  },
  {
   "cell_type": "code",
   "execution_count": 80,
   "id": "63861f6d",
   "metadata": {},
   "outputs": [],
   "source": [
    "det = np.linalg.det(matrix)"
   ]
  },
  {
   "cell_type": "code",
   "execution_count": 81,
   "id": "40d8ddd1",
   "metadata": {},
   "outputs": [
    {
     "name": "stdout",
     "output_type": "stream",
     "text": [
      "Determinant of matrix \n",
      " [[3 4]\n",
      " [1 2]] is  2.0000000000000004\n"
     ]
    }
   ],
   "source": [
    "print(\"Determinant of matrix \\n\", matrix, \"is \", det)"
   ]
  },
  {
   "cell_type": "markdown",
   "id": "def7fedf",
   "metadata": {},
   "source": [
    "### Creating a 3x3x3 array of random numbers"
   ]
  },
  {
   "cell_type": "code",
   "execution_count": 82,
   "id": "5e407afc",
   "metadata": {},
   "outputs": [],
   "source": [
    "arr = np.random.rand(3,3,3)"
   ]
  },
  {
   "cell_type": "code",
   "execution_count": 83,
   "id": "417454bb",
   "metadata": {},
   "outputs": [
    {
     "name": "stdout",
     "output_type": "stream",
     "text": [
      "3x3x3 array of random numbers is : \n",
      " [[[0.67319184 0.73854765 0.83943109]\n",
      "  [0.61881768 0.60316329 0.62322714]\n",
      "  [0.49063019 0.51886723 0.68786995]]\n",
      "\n",
      " [[0.63719503 0.35060488 0.92441694]\n",
      "  [0.62595653 0.98731709 0.30883835]\n",
      "  [0.52683577 0.16035018 0.80589768]]\n",
      "\n",
      " [[0.30892706 0.06353617 0.65450822]\n",
      "  [0.53965246 0.28991471 0.74393246]\n",
      "  [0.38162673 0.6110889  0.88885434]]]\n"
     ]
    }
   ],
   "source": [
    "print(\"3x3x3 array of random numbers is : \\n\", arr)"
   ]
  },
  {
   "cell_type": "markdown",
   "id": "cc0db849",
   "metadata": {},
   "source": [
    "### Generating a random 5x5 array and finding minimum and maximum values"
   ]
  },
  {
   "cell_type": "code",
   "execution_count": 84,
   "id": "018df324",
   "metadata": {},
   "outputs": [],
   "source": [
    "arr = np.random.rand(5,5)"
   ]
  },
  {
   "cell_type": "code",
   "execution_count": 85,
   "id": "687caf73",
   "metadata": {},
   "outputs": [
    {
     "name": "stdout",
     "output_type": "stream",
     "text": [
      "5x5 array of random numbers is : \n",
      " [[0.7090906  0.61759805 0.19496446 0.2740927  0.11191494]\n",
      " [0.11210764 0.31434713 0.61498296 0.56621727 0.82662493]\n",
      " [0.20084286 0.11201142 0.97261512 0.88125701 0.33438606]\n",
      " [0.41141844 0.1227937  0.32209418 0.87615261 0.15929265]\n",
      " [0.75928061 0.97906143 0.23981166 0.64147442 0.46477438]]\n"
     ]
    }
   ],
   "source": [
    "print(\"5x5 array of random numbers is : \\n\", arr)"
   ]
  },
  {
   "cell_type": "code",
   "execution_count": 86,
   "id": "17ead75d",
   "metadata": {},
   "outputs": [
    {
     "name": "stdout",
     "output_type": "stream",
     "text": [
      "Maximum element inside array is :  0.9790614260732774\n"
     ]
    }
   ],
   "source": [
    "print(\"Maximum element inside array is : \", np.amax(arr))"
   ]
  },
  {
   "cell_type": "code",
   "execution_count": 87,
   "id": "1be399a7",
   "metadata": {},
   "outputs": [
    {
     "name": "stdout",
     "output_type": "stream",
     "text": [
      "Minumum element inside array is :  0.11191493507517947\n"
     ]
    }
   ],
   "source": [
    "print(\"Minumum element inside array is : \", np.amin(arr))"
   ]
  },
  {
   "cell_type": "markdown",
   "id": "8c850287",
   "metadata": {},
   "source": [
    "### Computing mean, variance and standard deviation of second axis"
   ]
  },
  {
   "cell_type": "code",
   "execution_count": 88,
   "id": "c9125a33",
   "metadata": {},
   "outputs": [],
   "source": [
    "arr = np.array([[1,2,3],[4,5,6],[7,8,9]])"
   ]
  },
  {
   "cell_type": "code",
   "execution_count": 89,
   "id": "333602a2",
   "metadata": {},
   "outputs": [],
   "source": [
    "mean = np.mean(arr, axis = 1)\n",
    "variance = np.var(arr, axis = 1)\n",
    "std = np.std(arr, axis = 1)"
   ]
  },
  {
   "cell_type": "code",
   "execution_count": 90,
   "id": "92f661c7",
   "metadata": {},
   "outputs": [
    {
     "name": "stdout",
     "output_type": "stream",
     "text": [
      "Mean of second axis array is : [2. 5. 8.]\n",
      "Variance of second axis array is : [0.66666667 0.66666667 0.66666667]\n",
      "Standard deviation of second axis array is : [0.81649658 0.81649658 0.81649658]\n"
     ]
    }
   ],
   "source": [
    "print(\"Mean of second axis array is : \" + str(mean))\n",
    "print(\"Variance of second axis array is : \" + str(variance))\n",
    "print(\"Standard deviation of second axis array is : \" + str(std))"
   ]
  }
 ],
 "metadata": {
  "kernelspec": {
   "display_name": "Python 3 (ipykernel)",
   "language": "python",
   "name": "python3"
  },
  "language_info": {
   "codemirror_mode": {
    "name": "ipython",
    "version": 3
   },
   "file_extension": ".py",
   "mimetype": "text/x-python",
   "name": "python",
   "nbconvert_exporter": "python",
   "pygments_lexer": "ipython3",
   "version": "3.11.4"
  }
 },
 "nbformat": 4,
 "nbformat_minor": 5
}
